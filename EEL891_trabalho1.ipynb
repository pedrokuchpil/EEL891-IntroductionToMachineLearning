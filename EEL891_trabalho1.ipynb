{
 "cells": [
  {
   "cell_type": "code",
   "execution_count": 1,
   "metadata": {
    "id": "GwDLVQzMmaas"
   },
   "outputs": [],
   "source": [
    "import pandas as pd\n",
    "import numpy as np\n",
    "\n",
    "import missingno"
   ]
  },
  {
   "cell_type": "code",
   "execution_count": 2,
   "metadata": {
    "id": "Hoeq1lGxnimc"
   },
   "outputs": [],
   "source": [
    "df_train = pd.read_csv('data/train.csv')\n",
    "df_test = pd.read_csv('data/test.csv')"
   ]
  },
  {
   "cell_type": "code",
   "execution_count": 3,
   "metadata": {
    "colab": {
     "base_uri": "https://localhost:8080/",
     "height": 207
    },
    "id": "JTYjv_17st5G",
    "outputId": "f30b7927-1855-4480-9574-c61df7a62d82"
   },
   "outputs": [
    {
     "data": {
      "text/html": [
       "<div>\n",
       "<style scoped>\n",
       "    .dataframe tbody tr th:only-of-type {\n",
       "        vertical-align: middle;\n",
       "    }\n",
       "\n",
       "    .dataframe tbody tr th {\n",
       "        vertical-align: top;\n",
       "    }\n",
       "\n",
       "    .dataframe thead th {\n",
       "        text-align: right;\n",
       "    }\n",
       "</style>\n",
       "<table border=\"1\" class=\"dataframe\">\n",
       "  <thead>\n",
       "    <tr style=\"text-align: right;\">\n",
       "      <th></th>\n",
       "      <th>id_solicitante</th>\n",
       "      <th>produto_solicitado</th>\n",
       "      <th>dia_vencimento</th>\n",
       "      <th>forma_envio_solicitacao</th>\n",
       "      <th>tipo_endereco</th>\n",
       "      <th>sexo</th>\n",
       "      <th>idade</th>\n",
       "      <th>estado_civil</th>\n",
       "      <th>qtde_dependentes</th>\n",
       "      <th>grau_instrucao</th>\n",
       "      <th>...</th>\n",
       "      <th>possui_telefone_trabalho</th>\n",
       "      <th>codigo_area_telefone_trabalho</th>\n",
       "      <th>meses_no_trabalho</th>\n",
       "      <th>profissao</th>\n",
       "      <th>ocupacao</th>\n",
       "      <th>profissao_companheiro</th>\n",
       "      <th>grau_instrucao_companheiro</th>\n",
       "      <th>local_onde_reside</th>\n",
       "      <th>local_onde_trabalha</th>\n",
       "      <th>inadimplente</th>\n",
       "    </tr>\n",
       "  </thead>\n",
       "  <tbody>\n",
       "    <tr>\n",
       "      <th>0</th>\n",
       "      <td>1</td>\n",
       "      <td>1</td>\n",
       "      <td>10</td>\n",
       "      <td>presencial</td>\n",
       "      <td>1</td>\n",
       "      <td>M</td>\n",
       "      <td>85</td>\n",
       "      <td>2</td>\n",
       "      <td>0</td>\n",
       "      <td>0</td>\n",
       "      <td>...</td>\n",
       "      <td>N</td>\n",
       "      <td></td>\n",
       "      <td>0</td>\n",
       "      <td>9.0</td>\n",
       "      <td>1.0</td>\n",
       "      <td>0.0</td>\n",
       "      <td>0.0</td>\n",
       "      <td>600.0</td>\n",
       "      <td>600.0</td>\n",
       "      <td>0</td>\n",
       "    </tr>\n",
       "    <tr>\n",
       "      <th>1</th>\n",
       "      <td>2</td>\n",
       "      <td>1</td>\n",
       "      <td>25</td>\n",
       "      <td>internet</td>\n",
       "      <td>1</td>\n",
       "      <td>F</td>\n",
       "      <td>38</td>\n",
       "      <td>1</td>\n",
       "      <td>0</td>\n",
       "      <td>0</td>\n",
       "      <td>...</td>\n",
       "      <td>N</td>\n",
       "      <td></td>\n",
       "      <td>0</td>\n",
       "      <td>2.0</td>\n",
       "      <td>5.0</td>\n",
       "      <td>NaN</td>\n",
       "      <td>NaN</td>\n",
       "      <td>492.0</td>\n",
       "      <td>492.0</td>\n",
       "      <td>0</td>\n",
       "    </tr>\n",
       "    <tr>\n",
       "      <th>2</th>\n",
       "      <td>3</td>\n",
       "      <td>1</td>\n",
       "      <td>20</td>\n",
       "      <td>internet</td>\n",
       "      <td>1</td>\n",
       "      <td>F</td>\n",
       "      <td>37</td>\n",
       "      <td>2</td>\n",
       "      <td>0</td>\n",
       "      <td>0</td>\n",
       "      <td>...</td>\n",
       "      <td>N</td>\n",
       "      <td></td>\n",
       "      <td>0</td>\n",
       "      <td>NaN</td>\n",
       "      <td>NaN</td>\n",
       "      <td>NaN</td>\n",
       "      <td>NaN</td>\n",
       "      <td>450.0</td>\n",
       "      <td>450.0</td>\n",
       "      <td>1</td>\n",
       "    </tr>\n",
       "  </tbody>\n",
       "</table>\n",
       "<p>3 rows × 42 columns</p>\n",
       "</div>"
      ],
      "text/plain": [
       "   id_solicitante  produto_solicitado  dia_vencimento forma_envio_solicitacao  \\\n",
       "0               1                   1              10              presencial   \n",
       "1               2                   1              25                internet   \n",
       "2               3                   1              20                internet   \n",
       "\n",
       "   tipo_endereco sexo  idade  estado_civil  qtde_dependentes  grau_instrucao  \\\n",
       "0              1    M     85             2                 0               0   \n",
       "1              1    F     38             1                 0               0   \n",
       "2              1    F     37             2                 0               0   \n",
       "\n",
       "   ...  possui_telefone_trabalho codigo_area_telefone_trabalho  \\\n",
       "0  ...                         N                                 \n",
       "1  ...                         N                                 \n",
       "2  ...                         N                                 \n",
       "\n",
       "  meses_no_trabalho profissao ocupacao  profissao_companheiro  \\\n",
       "0                 0       9.0      1.0                    0.0   \n",
       "1                 0       2.0      5.0                    NaN   \n",
       "2                 0       NaN      NaN                    NaN   \n",
       "\n",
       "   grau_instrucao_companheiro local_onde_reside  local_onde_trabalha  \\\n",
       "0                         0.0             600.0                600.0   \n",
       "1                         NaN             492.0                492.0   \n",
       "2                         NaN             450.0                450.0   \n",
       "\n",
       "   inadimplente  \n",
       "0             0  \n",
       "1             0  \n",
       "2             1  \n",
       "\n",
       "[3 rows x 42 columns]"
      ]
     },
     "execution_count": 3,
     "metadata": {},
     "output_type": "execute_result"
    }
   ],
   "source": [
    "df_train.head(3)"
   ]
  },
  {
   "cell_type": "code",
   "execution_count": 4,
   "metadata": {
    "id": "jPttAf5mxUm5"
   },
   "outputs": [],
   "source": [
    "df_train.drop(['id_solicitante', 'estado_onde_nasceu', 'codigo_area_telefone_residencial', 'possui_telefone_trabalho', 'codigo_area_telefone_trabalho'], axis=1, inplace=True)\n",
    "df_test.drop(['id_solicitante', 'estado_onde_nasceu', 'codigo_area_telefone_residencial', 'possui_telefone_trabalho', 'codigo_area_telefone_trabalho'], axis=1, inplace=True)"
   ]
  },
  {
   "cell_type": "code",
   "execution_count": 5,
   "metadata": {
    "id": "EZc2ZLUQ0tYa"
   },
   "outputs": [],
   "source": [
    "df_train['sexo'] = df_train['sexo'].map({'M': 1, 'F': 0})\n",
    "df_test['sexo'] = df_test['sexo'].map({'M': 1, 'F': 0})\n",
    "\n",
    "df_train['possui_telefone_residencial'] = df_train['possui_telefone_residencial'].map({'Y': 1, 'N': 0})\n",
    "df_test['possui_telefone_residencial'] = df_test['possui_telefone_residencial'].map({'Y': 1, 'N': 0})\n",
    "\n",
    "df_train['vinculo_formal_com_empresa'] = df_train['vinculo_formal_com_empresa'].map({'Y': 1, 'N': 0})\n",
    "df_test['vinculo_formal_com_empresa'] = df_test['vinculo_formal_com_empresa'].map({'Y': 1, 'N': 0})\n",
    "\n",
    "df_train['forma_envio_solicitacao'] = df_train['forma_envio_solicitacao'].map({'presencial': 1, 'internet': 0})\n",
    "df_test['forma_envio_solicitacao'] = df_test['forma_envio_solicitacao'].map({'presencial': 1, 'internet': 0})\n",
    "\n"
   ]
  },
  {
   "cell_type": "code",
   "execution_count": null,
   "metadata": {},
   "outputs": [],
   "source": [
    "X_train = df_train.iloc[:, :-1].values\n",
    "y_train = df_train.iloc[:, -1].values\n",
    "\n",
    "X_test = df_test.iloc[:, :].values"
   ]
  },
  {
   "cell_type": "code",
   "execution_count": 6,
   "metadata": {
    "colab": {
     "base_uri": "https://localhost:8080/"
    },
    "id": "KdBx2bmnqYy6",
    "outputId": "20c4c482-7f94-40e8-b4c3-3d9f1dd6edd5"
   },
   "outputs": [
    {
     "data": {
      "text/plain": [
       "produto_solicitado                     0\n",
       "dia_vencimento                         0\n",
       "forma_envio_solicitacao                0\n",
       "tipo_endereco                          0\n",
       "sexo                               20000\n",
       "idade                                  0\n",
       "estado_civil                           0\n",
       "qtde_dependentes                       0\n",
       "grau_instrucao                         0\n",
       "nacionalidade                          0\n",
       "estado_onde_reside                     0\n",
       "possui_telefone_residencial            0\n",
       "tipo_residencia                      536\n",
       "meses_na_residencia                 1450\n",
       "possui_telefone_celular                0\n",
       "possui_email                           0\n",
       "renda_mensal_regular                   0\n",
       "renda_extra                            0\n",
       "possui_cartao_visa                     0\n",
       "possui_cartao_mastercard               0\n",
       "possui_cartao_diners                   0\n",
       "possui_cartao_amex                     0\n",
       "possui_outros_cartoes                  0\n",
       "qtde_contas_bancarias                  0\n",
       "qtde_contas_bancarias_especiais        0\n",
       "valor_patrimonio_pessoal               0\n",
       "possui_carro                           0\n",
       "vinculo_formal_com_empresa             0\n",
       "estado_onde_trabalha                   0\n",
       "meses_no_trabalho                      0\n",
       "profissao                           3097\n",
       "ocupacao                            2978\n",
       "profissao_companheiro              11514\n",
       "grau_instrucao_companheiro         12860\n",
       "local_onde_reside                      0\n",
       "local_onde_trabalha                    0\n",
       "inadimplente                           0\n",
       "dtype: int64"
      ]
     },
     "execution_count": 6,
     "metadata": {},
     "output_type": "execute_result"
    }
   ],
   "source": [
    "df_train.isna().sum()"
   ]
  },
  {
   "cell_type": "code",
   "execution_count": 7,
   "metadata": {
    "colab": {
     "base_uri": "https://localhost:8080/"
    },
    "id": "TddZbv4WrJWh",
    "outputId": "4b42a344-ab91-4cee-e244-89028d5981c7"
   },
   "outputs": [
    {
     "data": {
      "text/plain": [
       "produto_solicitado                    0\n",
       "dia_vencimento                        0\n",
       "forma_envio_solicitacao               0\n",
       "tipo_endereco                         0\n",
       "sexo                                  0\n",
       "idade                                 0\n",
       "estado_civil                          0\n",
       "qtde_dependentes                      0\n",
       "grau_instrucao                        0\n",
       "nacionalidade                         0\n",
       "estado_onde_reside                    0\n",
       "possui_telefone_residencial           0\n",
       "tipo_residencia                     125\n",
       "meses_na_residencia                 362\n",
       "possui_telefone_celular               0\n",
       "possui_email                          0\n",
       "renda_mensal_regular                  0\n",
       "renda_extra                           0\n",
       "possui_cartao_visa                    0\n",
       "possui_cartao_mastercard              0\n",
       "possui_cartao_diners                  0\n",
       "possui_cartao_amex                    0\n",
       "possui_outros_cartoes                 0\n",
       "qtde_contas_bancarias                 0\n",
       "qtde_contas_bancarias_especiais       0\n",
       "valor_patrimonio_pessoal              0\n",
       "possui_carro                          0\n",
       "vinculo_formal_com_empresa            0\n",
       "estado_onde_trabalha                  0\n",
       "meses_no_trabalho                     0\n",
       "profissao                           762\n",
       "ocupacao                            690\n",
       "profissao_companheiro              2887\n",
       "grau_instrucao_companheiro         3210\n",
       "local_onde_reside                     0\n",
       "local_onde_trabalha                   0\n",
       "dtype: int64"
      ]
     },
     "execution_count": 7,
     "metadata": {},
     "output_type": "execute_result"
    }
   ],
   "source": [
    "df_test.isna().sum()"
   ]
  },
  {
   "cell_type": "code",
   "execution_count": 8,
   "metadata": {
    "id": "207av9AcrhvH"
   },
   "outputs": [
    {
     "ename": "NameError",
     "evalue": "name 'X_train' is not defined",
     "output_type": "error",
     "traceback": [
      "\u001b[1;31m---------------------------------------------------------------------------\u001b[0m",
      "\u001b[1;31mNameError\u001b[0m                                 Traceback (most recent call last)",
      "\u001b[1;32m<ipython-input-8-77de16e9bc4a>\u001b[0m in \u001b[0;36m<module>\u001b[1;34m\u001b[0m\n\u001b[0;32m      2\u001b[0m \u001b[1;33m\u001b[0m\u001b[0m\n\u001b[0;32m      3\u001b[0m \u001b[0mimputer\u001b[0m \u001b[1;33m=\u001b[0m \u001b[0mSimpleImputer\u001b[0m\u001b[1;33m(\u001b[0m\u001b[0mmissing_values\u001b[0m\u001b[1;33m=\u001b[0m\u001b[0mnp\u001b[0m\u001b[1;33m.\u001b[0m\u001b[0mnan\u001b[0m\u001b[1;33m,\u001b[0m \u001b[0mstrategy\u001b[0m\u001b[1;33m=\u001b[0m\u001b[1;34m\"mean\"\u001b[0m\u001b[1;33m)\u001b[0m\u001b[1;33m\u001b[0m\u001b[1;33m\u001b[0m\u001b[0m\n\u001b[1;32m----> 4\u001b[1;33m \u001b[0mX_train\u001b[0m\u001b[1;33m[\u001b[0m\u001b[1;33m:\u001b[0m\u001b[1;33m,\u001b[0m \u001b[1;36m24\u001b[0m\u001b[1;33m:\u001b[0m\u001b[1;36m30\u001b[0m\u001b[1;33m]\u001b[0m \u001b[1;33m=\u001b[0m \u001b[0mimputer\u001b[0m\u001b[1;33m.\u001b[0m\u001b[0mfit_transform\u001b[0m\u001b[1;33m(\u001b[0m\u001b[0mX_train\u001b[0m\u001b[1;33m[\u001b[0m\u001b[1;33m:\u001b[0m\u001b[1;33m,\u001b[0m \u001b[1;36m24\u001b[0m\u001b[1;33m:\u001b[0m\u001b[1;36m30\u001b[0m\u001b[1;33m]\u001b[0m\u001b[1;33m)\u001b[0m\u001b[1;33m\u001b[0m\u001b[1;33m\u001b[0m\u001b[0m\n\u001b[0m\u001b[0;32m      5\u001b[0m \u001b[1;33m\u001b[0m\u001b[0m\n\u001b[0;32m      6\u001b[0m \u001b[0mimputer_kaggle\u001b[0m \u001b[1;33m=\u001b[0m \u001b[0mSimpleImputer\u001b[0m\u001b[1;33m(\u001b[0m\u001b[0mmissing_values\u001b[0m\u001b[1;33m=\u001b[0m\u001b[0mnp\u001b[0m\u001b[1;33m.\u001b[0m\u001b[0mnan\u001b[0m\u001b[1;33m,\u001b[0m \u001b[0mstrategy\u001b[0m\u001b[1;33m=\u001b[0m\u001b[1;34m\"mean\"\u001b[0m\u001b[1;33m)\u001b[0m\u001b[1;33m\u001b[0m\u001b[1;33m\u001b[0m\u001b[0m\n",
      "\u001b[1;31mNameError\u001b[0m: name 'X_train' is not defined"
     ]
    }
   ],
   "source": [
    "from sklearn.impute import SimpleImputer\n",
    "\n",
    "imputer = SimpleImputer(missing_values=np.nan, strategy=\"mean\")\n",
    "X_train[:, 24:30] = imputer.fit_transform(X_train[:, 24:30])\n",
    "\n",
    "imputer_kaggle = SimpleImputer(missing_values=np.nan, strategy=\"mean\")\n",
    "X_kaggle[:, 24:30] = imputer_kaggle.fit_transform(X_kaggle[:, 24:30])\n"
   ]
  }
 ],
 "metadata": {
  "colab": {
   "authorship_tag": "ABX9TyM4M3fDaJo/rHlLo0e+ip0+",
   "name": "EEL891-trabalho1.ipynb",
   "provenance": []
  },
  "kernelspec": {
   "display_name": "Python 3",
   "language": "python",
   "name": "python3"
  },
  "language_info": {
   "codemirror_mode": {
    "name": "ipython",
    "version": 3
   },
   "file_extension": ".py",
   "mimetype": "text/x-python",
   "name": "python",
   "nbconvert_exporter": "python",
   "pygments_lexer": "ipython3",
   "version": "3.8.5"
  }
 },
 "nbformat": 4,
 "nbformat_minor": 1
}
